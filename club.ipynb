{
 "cells": [
  {
   "cell_type": "code",
   "execution_count": 2,
   "metadata": {},
   "outputs": [],
   "source": [
    "from selenium.webdriver.common.keys import Keys\n",
    "from selenium.webdriver.support.ui import WebDriverWait\n",
    "from selenium.webdriver.support import expected_conditions as EC\n",
    "from selenium.webdriver.common.by import By\n",
    "from selenium import webdriver\n",
    "\n",
    "\n",
    "url = \"https://steadio.co/discover/clubs\"\n",
    "\n",
    "# Chrome 브라우저 열기\n",
    "driver = webdriver.Chrome()\n",
    "\n",
    "# 웹 페이지로 이동\n",
    "driver.get(url)\n",
    "\n",
    "# 스크롤 끝까지 내리기 (예: 5번 반복)\n",
    "for _ in range(5):\n",
    "    # 페이지의 끝까지 스크롤\n",
    "    driver.find_element(By.TAG_NAME, 'body').send_keys(Keys.END)\n"
   ]
  },
  {
   "cell_type": "code",
   "execution_count": 5,
   "metadata": {},
   "outputs": [],
   "source": [
    "from bs4 import BeautifulSoup\n",
    "\n",
    "\n",
    "html_content = driver.page_source\n",
    "\n",
    "    # BeautifulSoup을 사용하여 HTML 파싱\n",
    "soup = BeautifulSoup(html_content, 'html.parser')"
   ]
  },
  {
   "cell_type": "code",
   "execution_count": 15,
   "metadata": {},
   "outputs": [
    {
     "name": "stdout",
     "output_type": "stream",
     "text": [
      "None\n",
      "None\n",
      "<re.Match object; span=(0, 9), match='/creator/'>\n",
      "<re.Match object; span=(0, 9), match='/creator/'>\n",
      "<re.Match object; span=(0, 9), match='/creator/'>\n",
      "<re.Match object; span=(0, 9), match='/creator/'>\n",
      "<re.Match object; span=(0, 9), match='/creator/'>\n",
      "<re.Match object; span=(0, 9), match='/creator/'>\n",
      "<re.Match object; span=(0, 9), match='/creator/'>\n",
      "<re.Match object; span=(0, 9), match='/creator/'>\n",
      "<re.Match object; span=(0, 9), match='/creator/'>\n",
      "<re.Match object; span=(0, 9), match='/creator/'>\n",
      "<re.Match object; span=(0, 9), match='/creator/'>\n",
      "<re.Match object; span=(0, 9), match='/creator/'>\n",
      "<re.Match object; span=(0, 9), match='/creator/'>\n",
      "<re.Match object; span=(0, 9), match='/creator/'>\n",
      "<re.Match object; span=(0, 9), match='/creator/'>\n",
      "<re.Match object; span=(0, 9), match='/creator/'>\n",
      "<re.Match object; span=(0, 9), match='/creator/'>\n",
      "<re.Match object; span=(0, 9), match='/creator/'>\n",
      "<re.Match object; span=(0, 9), match='/creator/'>\n",
      "<re.Match object; span=(0, 9), match='/creator/'>\n",
      "<re.Match object; span=(0, 9), match='/creator/'>\n",
      "<re.Match object; span=(0, 9), match='/creator/'>\n",
      "<re.Match object; span=(0, 9), match='/creator/'>\n",
      "<re.Match object; span=(0, 9), match='/creator/'>\n",
      "<re.Match object; span=(0, 9), match='/creator/'>\n",
      "<re.Match object; span=(0, 9), match='/creator/'>\n",
      "<re.Match object; span=(0, 9), match='/creator/'>\n",
      "<re.Match object; span=(0, 9), match='/creator/'>\n",
      "<re.Match object; span=(0, 9), match='/creator/'>\n",
      "<re.Match object; span=(0, 9), match='/creator/'>\n",
      "<re.Match object; span=(0, 9), match='/creator/'>\n",
      "<re.Match object; span=(0, 9), match='/creator/'>\n",
      "<re.Match object; span=(0, 9), match='/creator/'>\n",
      "<re.Match object; span=(0, 9), match='/creator/'>\n",
      "<re.Match object; span=(0, 9), match='/creator/'>\n",
      "<re.Match object; span=(0, 9), match='/creator/'>\n",
      "<re.Match object; span=(0, 9), match='/creator/'>\n",
      "<re.Match object; span=(0, 9), match='/creator/'>\n",
      "<re.Match object; span=(0, 9), match='/creator/'>\n",
      "<re.Match object; span=(0, 9), match='/creator/'>\n",
      "<re.Match object; span=(0, 9), match='/creator/'>\n",
      "<re.Match object; span=(0, 9), match='/creator/'>\n",
      "<re.Match object; span=(0, 9), match='/creator/'>\n",
      "<re.Match object; span=(0, 9), match='/creator/'>\n",
      "<re.Match object; span=(0, 9), match='/creator/'>\n",
      "<re.Match object; span=(0, 9), match='/creator/'>\n",
      "<re.Match object; span=(0, 9), match='/creator/'>\n",
      "<re.Match object; span=(0, 9), match='/creator/'>\n",
      "<re.Match object; span=(0, 9), match='/creator/'>\n",
      "<re.Match object; span=(0, 9), match='/creator/'>\n",
      "<re.Match object; span=(0, 9), match='/creator/'>\n",
      "<re.Match object; span=(0, 9), match='/creator/'>\n",
      "<re.Match object; span=(0, 9), match='/creator/'>\n",
      "<re.Match object; span=(0, 9), match='/creator/'>\n",
      "<re.Match object; span=(0, 9), match='/creator/'>\n",
      "<re.Match object; span=(0, 9), match='/creator/'>\n",
      "<re.Match object; span=(0, 9), match='/creator/'>\n",
      "<re.Match object; span=(0, 9), match='/creator/'>\n",
      "<re.Match object; span=(0, 9), match='/creator/'>\n",
      "<re.Match object; span=(0, 9), match='/creator/'>\n",
      "<re.Match object; span=(0, 9), match='/creator/'>\n",
      "<re.Match object; span=(0, 9), match='/creator/'>\n",
      "<re.Match object; span=(0, 9), match='/creator/'>\n",
      "<re.Match object; span=(0, 9), match='/creator/'>\n",
      "<re.Match object; span=(0, 9), match='/creator/'>\n",
      "<re.Match object; span=(0, 9), match='/creator/'>\n",
      "<re.Match object; span=(0, 9), match='/creator/'>\n",
      "<re.Match object; span=(0, 9), match='/creator/'>\n",
      "<re.Match object; span=(0, 9), match='/creator/'>\n",
      "<re.Match object; span=(0, 9), match='/creator/'>\n",
      "<re.Match object; span=(0, 9), match='/creator/'>\n",
      "<re.Match object; span=(0, 9), match='/creator/'>\n",
      "<re.Match object; span=(0, 9), match='/creator/'>\n",
      "<re.Match object; span=(0, 9), match='/creator/'>\n",
      "<re.Match object; span=(0, 9), match='/creator/'>\n",
      "<re.Match object; span=(0, 9), match='/creator/'>\n",
      "<re.Match object; span=(0, 9), match='/creator/'>\n",
      "<re.Match object; span=(0, 9), match='/creator/'>\n",
      "<re.Match object; span=(0, 9), match='/creator/'>\n",
      "<re.Match object; span=(0, 9), match='/creator/'>\n",
      "<re.Match object; span=(0, 9), match='/creator/'>\n",
      "<re.Match object; span=(0, 9), match='/creator/'>\n",
      "<re.Match object; span=(0, 9), match='/creator/'>\n",
      "<re.Match object; span=(0, 9), match='/creator/'>\n",
      "<re.Match object; span=(0, 9), match='/creator/'>\n",
      "<re.Match object; span=(0, 9), match='/creator/'>\n",
      "<re.Match object; span=(0, 9), match='/creator/'>\n",
      "<re.Match object; span=(0, 9), match='/creator/'>\n",
      "<re.Match object; span=(0, 9), match='/creator/'>\n",
      "<re.Match object; span=(0, 9), match='/creator/'>\n",
      "<re.Match object; span=(0, 9), match='/creator/'>\n",
      "<re.Match object; span=(0, 9), match='/creator/'>\n",
      "None\n",
      "None\n",
      "None\n",
      "None\n",
      "None\n",
      "None\n",
      "None\n",
      "None\n",
      "None\n",
      "None\n",
      "None\n",
      "None\n",
      "None\n",
      "None\n",
      "None\n",
      "None\n",
      "None\n",
      "None\n",
      "None\n",
      "None\n",
      "None\n",
      "None\n",
      "None\n",
      "None\n",
      "None\n",
      "None\n"
     ]
    }
   ],
   "source": [
    "import re\n",
    "# Membership_name 추출\n",
    "membership_name = soup.find_all('a')\n",
    "\n",
    "for mem in membership_name:\n",
    "    if mem.get('href'):\n",
    "        print(re.match(r'/creator/', mem.get('href')))\n",
    "    else:\n",
    "        pass\n",
    "\n",
    "\n",
    "\n",
    "# for mem in membership_name:\n",
    "#     print(mem.text)\n",
    "\n",
    "# for com in comment:\n",
    "#     print(com.text)\n",
    "\n",
    "\n",
    "# for sub in num_of_subs:\n",
    "#     print(int(sub.text[:-1]))"
   ]
  },
  {
   "cell_type": "code",
   "execution_count": 75,
   "metadata": {},
   "outputs": [
    {
     "name": "stdout",
     "output_type": "stream",
     "text": [
      "0                           생방여의 지속적인 창작을 응원하는 앨라이들\n",
      "1                                        전인의 인권을 응원\n",
      "2      여러분의 응원은 게임 개발을 비롯한 여러 창작의 여정을 이어갈 힘이 되어요 :3\n",
      "3                       HR PLUS 리포트 '스탠다드' 멤버십 입니다.\n",
      "4       창작에 관한 이야기, 그리고 작은 선물로 선데이클럽 올인원팩을 드리고 있어요!\n",
      "                           ...                     \n",
      "239                                     스트레칭 후 명상하기\n",
      "240          매달 말차라떼 한 잔씩 후원해 주시면 글 쓸 때 큰 힘이 됩니다 :)\n",
      "241                                      같이씁니다. 에세이\n",
      "242                           조금은 어색한 그에게 안부를 남기세요.\n",
      "243             외계문명과의 열린 대중적 공개적 만남을 준비하고 후원하는 멤버십\n",
      "Name: membership_desc, Length: 244, dtype: object\n"
     ]
    }
   ],
   "source": [
    "import pandas as pd\n",
    "# Membership_name 추출\n",
    "\n",
    "desc_element = soup.find_all('p', class_='mobile:max-w-[236px] overflow-hidden text-ellipsis-1 font_label_regular_sm mobile:font_label_regular_lg content_quaternary')\n",
    "\n",
    "# ResultSet을 리스트로 변환\n",
    "desc_name_list = [element.text.strip() for element in desc_element]\n",
    "\n",
    "# 리스트를 시리즈로 변환\n",
    "membership_desc_series = pd.Series(desc_name_list, name='membership_desc')\n",
    "\n",
    "# 결과 출력\n",
    "print(membership_desc_series)"
   ]
  },
  {
   "cell_type": "code",
   "execution_count": 76,
   "metadata": {},
   "outputs": [
    {
     "data": {
      "text/plain": [
       "0                    생방여보\n",
       "1                     전인권\n",
       "2               뽀시래기 슈팅스타\n",
       "3      HR PLUS 리포트 - 스탠다드\n",
       "4                 쪼꼬미 여행자\n",
       "              ...        \n",
       "239                모닝 리추얼\n",
       "240                  말차라떼\n",
       "241           test 에세이 클럽\n",
       "242           test 프롬프트박스\n",
       "243     오픈컨택 - 을 준비하는 사람들\n",
       "Name: membership_name, Length: 244, dtype: object"
      ]
     },
     "execution_count": 76,
     "metadata": {},
     "output_type": "execute_result"
    }
   ],
   "source": [
    "membership_name_series"
   ]
  },
  {
   "cell_type": "code",
   "execution_count": 80,
   "metadata": {},
   "outputs": [
    {
     "name": "stdout",
     "output_type": "stream",
     "text": [
      "0      114\n",
      "1        9\n",
      "2        1\n",
      "3       12\n",
      "4        5\n",
      "      ... \n",
      "239      0\n",
      "240      0\n",
      "241      0\n",
      "242      0\n",
      "243      0\n",
      "Name: num_of_subs, Length: 244, dtype: object\n"
     ]
    }
   ],
   "source": [
    "num_of_subs_element = soup.find_all('span', class_='font_label_regular_sm mobile:font_label_regular_lg')\n",
    "\n",
    "# ResultSet을 리스트로 변환\n",
    "num_of_subs_list = [element.text.strip()[:-1] for element in num_of_subs_element]\n",
    "\n",
    "# 리스트를 시리즈로 변환\n",
    "num_of_subs_series = pd.Series(num_of_subs_list, name='num_of_subs')\n",
    "\n",
    "# 결과 출력\n",
    "print(num_of_subs_series)"
   ]
  },
  {
   "cell_type": "code",
   "execution_count": 85,
   "metadata": {},
   "outputs": [
    {
     "data": {
      "text/plain": [
       "num_of_subs\n",
       "0           162\n",
       "1            18\n",
       "2             9\n",
       "5             6\n",
       "3             6\n",
       "7             5\n",
       "10            4\n",
       "9             3\n",
       "11            2\n",
       "12            2\n",
       "49            2\n",
       "19            2\n",
       "0/10,000      2\n",
       "6             2\n",
       "114           1\n",
       "0/15          1\n",
       "0/1,500       1\n",
       "13            1\n",
       "0/100         1\n",
       "0/13          1\n",
       "27            1\n",
       "16            1\n",
       "17            1\n",
       "22            1\n",
       "33            1\n",
       "34            1\n",
       "42            1\n",
       "44            1\n",
       "50            1\n",
       "53            1\n",
       "69            1\n",
       "99            1\n",
       "0/10          1\n",
       "Name: count, dtype: int64"
      ]
     },
     "execution_count": 85,
     "metadata": {},
     "output_type": "execute_result"
    }
   ],
   "source": [
    "num_of_subs_series.value_counts()"
   ]
  },
  {
   "cell_type": "code",
   "execution_count": 82,
   "metadata": {},
   "outputs": [
    {
     "name": "stdout",
     "output_type": "stream",
     "text": [
      "0      114\n",
      "1        9\n",
      "2        1\n",
      "3       12\n",
      "4        5\n",
      "      ... \n",
      "239      0\n",
      "240      0\n",
      "241      0\n",
      "242      0\n",
      "243      0\n",
      "Name: num_of_subs, Length: 244, dtype: object\n"
     ]
    }
   ],
   "source": [
    "import re\n",
    "\n",
    "num_of_subs_element = soup.find_all('span', class_='font_label_regular_sm mobile:font_label_regular_lg')\n",
    "\n",
    "# ResultSet을 리스트로 변환\n",
    "num_of_subs_list = [element.text.strip()[:-1] for element in num_of_subs_element]\n",
    "\n",
    "# 정규표현식을 사용하여 '/' 앞의 숫자만 추출\n",
    "numbers = []\n",
    "\n",
    "for item in num_of_subs_list:\n",
    "    match = re.search(r'^([\\d,]+)', item)\n",
    "    if match:\n",
    "        # ','를 제거하고 숫자만 가져오기\n",
    "        number = match.group(1).replace(',', '')\n",
    "        numbers.append(number)\n",
    "    else:\n",
    "        numbers.append(None)\n",
    "\n",
    "# 시리즈 생성\n",
    "numbers_series = pd.Series(numbers, name='num_of_subs')\n",
    "\n",
    "# 결과 출력\n",
    "print(numbers_series)"
   ]
  },
  {
   "cell_type": "code",
   "execution_count": 86,
   "metadata": {},
   "outputs": [
    {
     "data": {
      "text/plain": [
       "num_of_subs\n",
       "0      169\n",
       "1       18\n",
       "2        9\n",
       "5        6\n",
       "3        6\n",
       "7        5\n",
       "10       4\n",
       "9        3\n",
       "12       2\n",
       "49       2\n",
       "19       2\n",
       "6        2\n",
       "11       2\n",
       "22       1\n",
       "13       1\n",
       "16       1\n",
       "17       1\n",
       "114      1\n",
       "27       1\n",
       "33       1\n",
       "34       1\n",
       "44       1\n",
       "50       1\n",
       "53       1\n",
       "69       1\n",
       "99       1\n",
       "42       1\n",
       "Name: count, dtype: int64"
      ]
     },
     "execution_count": 86,
     "metadata": {},
     "output_type": "execute_result"
    }
   ],
   "source": [
    "numbers_series.value_counts()"
   ]
  },
  {
   "cell_type": "code",
   "execution_count": 87,
   "metadata": {},
   "outputs": [
    {
     "data": {
      "text/plain": [
       "0                    생방여보\n",
       "1                     전인권\n",
       "2               뽀시래기 슈팅스타\n",
       "3      HR PLUS 리포트 - 스탠다드\n",
       "4                 쪼꼬미 여행자\n",
       "              ...        \n",
       "239                모닝 리추얼\n",
       "240                  말차라떼\n",
       "241           test 에세이 클럽\n",
       "242           test 프롬프트박스\n",
       "243     오픈컨택 - 을 준비하는 사람들\n",
       "Name: membership_name, Length: 244, dtype: object"
      ]
     },
     "execution_count": 87,
     "metadata": {},
     "output_type": "execute_result"
    }
   ],
   "source": [
    "membership_name_series"
   ]
  },
  {
   "cell_type": "code",
   "execution_count": 88,
   "metadata": {},
   "outputs": [
    {
     "data": {
      "text/html": [
       "<div>\n",
       "<style scoped>\n",
       "    .dataframe tbody tr th:only-of-type {\n",
       "        vertical-align: middle;\n",
       "    }\n",
       "\n",
       "    .dataframe tbody tr th {\n",
       "        vertical-align: top;\n",
       "    }\n",
       "\n",
       "    .dataframe thead th {\n",
       "        text-align: right;\n",
       "    }\n",
       "</style>\n",
       "<table border=\"1\" class=\"dataframe\">\n",
       "  <thead>\n",
       "    <tr style=\"text-align: right;\">\n",
       "      <th></th>\n",
       "      <th>membership_name</th>\n",
       "      <th>membership_desc</th>\n",
       "      <th>num_of_subs</th>\n",
       "    </tr>\n",
       "  </thead>\n",
       "  <tbody>\n",
       "    <tr>\n",
       "      <th>0</th>\n",
       "      <td>생방여보</td>\n",
       "      <td>생방여의 지속적인 창작을 응원하는 앨라이들</td>\n",
       "      <td>114</td>\n",
       "    </tr>\n",
       "    <tr>\n",
       "      <th>1</th>\n",
       "      <td>전인권</td>\n",
       "      <td>전인의 인권을 응원</td>\n",
       "      <td>9</td>\n",
       "    </tr>\n",
       "    <tr>\n",
       "      <th>2</th>\n",
       "      <td>뽀시래기 슈팅스타</td>\n",
       "      <td>여러분의 응원은 게임 개발을 비롯한 여러 창작의 여정을 이어갈 힘이 되어요 :3</td>\n",
       "      <td>1</td>\n",
       "    </tr>\n",
       "    <tr>\n",
       "      <th>3</th>\n",
       "      <td>HR PLUS 리포트 - 스탠다드</td>\n",
       "      <td>HR PLUS 리포트 '스탠다드' 멤버십 입니다.</td>\n",
       "      <td>12</td>\n",
       "    </tr>\n",
       "    <tr>\n",
       "      <th>4</th>\n",
       "      <td>쪼꼬미 여행자</td>\n",
       "      <td>창작에 관한 이야기, 그리고 작은 선물로 선데이클럽 올인원팩을 드리고 있어요!</td>\n",
       "      <td>5</td>\n",
       "    </tr>\n",
       "    <tr>\n",
       "      <th>...</th>\n",
       "      <td>...</td>\n",
       "      <td>...</td>\n",
       "      <td>...</td>\n",
       "    </tr>\n",
       "    <tr>\n",
       "      <th>239</th>\n",
       "      <td>모닝 리추얼</td>\n",
       "      <td>스트레칭 후 명상하기</td>\n",
       "      <td>0</td>\n",
       "    </tr>\n",
       "    <tr>\n",
       "      <th>240</th>\n",
       "      <td>말차라떼</td>\n",
       "      <td>매달 말차라떼 한 잔씩 후원해 주시면 글 쓸 때 큰 힘이 됩니다 :)</td>\n",
       "      <td>0</td>\n",
       "    </tr>\n",
       "    <tr>\n",
       "      <th>241</th>\n",
       "      <td>test 에세이 클럽</td>\n",
       "      <td>같이씁니다. 에세이</td>\n",
       "      <td>0</td>\n",
       "    </tr>\n",
       "    <tr>\n",
       "      <th>242</th>\n",
       "      <td>test 프롬프트박스</td>\n",
       "      <td>조금은 어색한 그에게 안부를 남기세요.</td>\n",
       "      <td>0</td>\n",
       "    </tr>\n",
       "    <tr>\n",
       "      <th>243</th>\n",
       "      <td>오픈컨택 - 을 준비하는 사람들</td>\n",
       "      <td>외계문명과의 열린 대중적 공개적 만남을 준비하고 후원하는 멤버십</td>\n",
       "      <td>0</td>\n",
       "    </tr>\n",
       "  </tbody>\n",
       "</table>\n",
       "<p>244 rows × 3 columns</p>\n",
       "</div>"
      ],
      "text/plain": [
       "        membership_name                               membership_desc  \\\n",
       "0                  생방여보                       생방여의 지속적인 창작을 응원하는 앨라이들   \n",
       "1                   전인권                                    전인의 인권을 응원   \n",
       "2             뽀시래기 슈팅스타  여러분의 응원은 게임 개발을 비롯한 여러 창작의 여정을 이어갈 힘이 되어요 :3   \n",
       "3    HR PLUS 리포트 - 스탠다드                   HR PLUS 리포트 '스탠다드' 멤버십 입니다.   \n",
       "4               쪼꼬미 여행자   창작에 관한 이야기, 그리고 작은 선물로 선데이클럽 올인원팩을 드리고 있어요!   \n",
       "..                  ...                                           ...   \n",
       "239              모닝 리추얼                                   스트레칭 후 명상하기   \n",
       "240                말차라떼        매달 말차라떼 한 잔씩 후원해 주시면 글 쓸 때 큰 힘이 됩니다 :)   \n",
       "241         test 에세이 클럽                                    같이씁니다. 에세이   \n",
       "242         test 프롬프트박스                         조금은 어색한 그에게 안부를 남기세요.   \n",
       "243   오픈컨택 - 을 준비하는 사람들           외계문명과의 열린 대중적 공개적 만남을 준비하고 후원하는 멤버십   \n",
       "\n",
       "    num_of_subs  \n",
       "0           114  \n",
       "1             9  \n",
       "2             1  \n",
       "3            12  \n",
       "4             5  \n",
       "..          ...  \n",
       "239           0  \n",
       "240           0  \n",
       "241           0  \n",
       "242           0  \n",
       "243           0  \n",
       "\n",
       "[244 rows x 3 columns]"
      ]
     },
     "execution_count": 88,
     "metadata": {},
     "output_type": "execute_result"
    }
   ],
   "source": [
    "df = pd.concat([membership_name_series, membership_desc_series, numbers_series], axis=1)\n",
    "df"
   ]
  },
  {
   "cell_type": "code",
   "execution_count": 89,
   "metadata": {},
   "outputs": [],
   "source": [
    "df.to_csv(\"membership.csv\")"
   ]
  },
  {
   "cell_type": "code",
   "execution_count": 92,
   "metadata": {},
   "outputs": [
    {
     "name": "stdout",
     "output_type": "stream",
     "text": [
      "0              생방송 여자가 좋다\n",
      "1                      전인\n",
      "2                      써니\n",
      "3      HR PLUS, 주간 경제 리포트\n",
      "4                      써니\n",
      "              ...        \n",
      "239                    호지\n",
      "240                   로공백\n",
      "241                데이문프레스\n",
      "242                데이문프레스\n",
      "243                  스페이스\n",
      "Name: creator_name, Length: 244, dtype: object\n"
     ]
    }
   ],
   "source": [
    "creator_name_element = soup.find_all('p', class_='mobile:max-w-[236px] overflow-hidden text-ellipsis-1 font_label_regular_sm mobile:font_label_regular_lg content_secondary')\n",
    "\n",
    "# ResultSet을 리스트로 변환\n",
    "creator_name_list = [element.text.strip() for element in creator_name_element]\n",
    "\n",
    "# 리스트를 시리즈로 변환\n",
    "creator_name_series = pd.Series(creator_name_list, name='creator_name')\n",
    "\n",
    "# 결과 출력\n",
    "print(creator_name_series)"
   ]
  },
  {
   "cell_type": "code",
   "execution_count": 93,
   "metadata": {},
   "outputs": [
    {
     "name": "stdout",
     "output_type": "stream",
     "text": [
      "           creator_name     membership_name  \\\n",
      "0            생방송 여자가 좋다                생방여보   \n",
      "1                    전인                 전인권   \n",
      "2                    써니           뽀시래기 슈팅스타   \n",
      "3    HR PLUS, 주간 경제 리포트  HR PLUS 리포트 - 스탠다드   \n",
      "4                    써니             쪼꼬미 여행자   \n",
      "..                  ...                 ...   \n",
      "239                  호지              모닝 리추얼   \n",
      "240                 로공백                말차라떼   \n",
      "241              데이문프레스         test 에세이 클럽   \n",
      "242              데이문프레스         test 프롬프트박스   \n",
      "243                스페이스   오픈컨택 - 을 준비하는 사람들   \n",
      "\n",
      "                                  membership_desc num_of_subs  \n",
      "0                         생방여의 지속적인 창작을 응원하는 앨라이들         114  \n",
      "1                                      전인의 인권을 응원           9  \n",
      "2    여러분의 응원은 게임 개발을 비롯한 여러 창작의 여정을 이어갈 힘이 되어요 :3           1  \n",
      "3                     HR PLUS 리포트 '스탠다드' 멤버십 입니다.          12  \n",
      "4     창작에 관한 이야기, 그리고 작은 선물로 선데이클럽 올인원팩을 드리고 있어요!           5  \n",
      "..                                            ...         ...  \n",
      "239                                   스트레칭 후 명상하기           0  \n",
      "240        매달 말차라떼 한 잔씩 후원해 주시면 글 쓸 때 큰 힘이 됩니다 :)           0  \n",
      "241                                    같이씁니다. 에세이           0  \n",
      "242                         조금은 어색한 그에게 안부를 남기세요.           0  \n",
      "243           외계문명과의 열린 대중적 공개적 만남을 준비하고 후원하는 멤버십           0  \n",
      "\n",
      "[244 rows x 4 columns]\n"
     ]
    }
   ],
   "source": [
    "df = pd.concat([creator_name_series,df], axis=1)\n",
    "\n",
    "# 결과 출력\n",
    "print(df)"
   ]
  },
  {
   "cell_type": "code",
   "execution_count": 95,
   "metadata": {},
   "outputs": [],
   "source": [
    "df.to_csv('membership.csv')"
   ]
  },
  {
   "cell_type": "code",
   "execution_count": 96,
   "metadata": {},
   "outputs": [
    {
     "name": "stdout",
     "output_type": "stream",
     "text": [
      "           creator_name     membership_name  \\\n",
      "0            생방송 여자가 좋다                생방여보   \n",
      "1                    전인                 전인권   \n",
      "2                    써니           뽀시래기 슈팅스타   \n",
      "3    HR PLUS, 주간 경제 리포트  HR PLUS 리포트 - 스탠다드   \n",
      "4                    써니             쪼꼬미 여행자   \n",
      "..                  ...                 ...   \n",
      "239                  호지              모닝 리추얼   \n",
      "240                 로공백                말차라떼   \n",
      "241              데이문프레스         test 에세이 클럽   \n",
      "242              데이문프레스         test 프롬프트박스   \n",
      "243                스페이스   오픈컨택 - 을 준비하는 사람들   \n",
      "\n",
      "                                  membership_desc num_of_subs  creator_id  \n",
      "0                         생방여의 지속적인 창작을 응원하는 앨라이들         114           0  \n",
      "1                                      전인의 인권을 응원           9           1  \n",
      "2    여러분의 응원은 게임 개발을 비롯한 여러 창작의 여정을 이어갈 힘이 되어요 :3           1           2  \n",
      "3                     HR PLUS 리포트 '스탠다드' 멤버십 입니다.          12           3  \n",
      "4     창작에 관한 이야기, 그리고 작은 선물로 선데이클럽 올인원팩을 드리고 있어요!           5           2  \n",
      "..                                            ...         ...         ...  \n",
      "239                                   스트레칭 후 명상하기           0         174  \n",
      "240        매달 말차라떼 한 잔씩 후원해 주시면 글 쓸 때 큰 힘이 됩니다 :)           0         175  \n",
      "241                                    같이씁니다. 에세이           0         176  \n",
      "242                         조금은 어색한 그에게 안부를 남기세요.           0         176  \n",
      "243           외계문명과의 열린 대중적 공개적 만남을 준비하고 후원하는 멤버십           0         177  \n",
      "\n",
      "[244 rows x 5 columns]\n"
     ]
    }
   ],
   "source": [
    "# 고유한 ID를 부여하기 위한 딕셔너리 생성\n",
    "unique_names = df['creator_name'].unique()\n",
    "name_to_id = {name: id for id, name in enumerate(unique_names)}\n",
    "\n",
    "# creator_name에 대한 고유한 ID 열 추가\n",
    "df['creator_id'] = df['creator_name'].map(name_to_id)\n",
    "\n",
    "# 결과 출력\n",
    "print(df)"
   ]
  },
  {
   "cell_type": "code",
   "execution_count": 98,
   "metadata": {},
   "outputs": [
    {
     "data": {
      "text/plain": [
       "creator_id\n",
       "35     6\n",
       "127    6\n",
       "60     5\n",
       "52     5\n",
       "167    4\n",
       "      ..\n",
       "70     1\n",
       "71     1\n",
       "72     1\n",
       "74     1\n",
       "177    1\n",
       "Name: count, Length: 178, dtype: int64"
      ]
     },
     "execution_count": 98,
     "metadata": {},
     "output_type": "execute_result"
    }
   ],
   "source": [
    "df['creator_id'].value_counts()"
   ]
  },
  {
   "cell_type": "code",
   "execution_count": 99,
   "metadata": {},
   "outputs": [],
   "source": [
    "df.to_csv('membership.csv')"
   ]
  },
  {
   "cell_type": "code",
   "execution_count": 100,
   "metadata": {},
   "outputs": [
    {
     "name": "stdout",
     "output_type": "stream",
     "text": [
      "     creator_id        creator_name     membership_name  \\\n",
      "0             0          생방송 여자가 좋다                생방여보   \n",
      "1             1                  전인                 전인권   \n",
      "2             2                  써니           뽀시래기 슈팅스타   \n",
      "3             3  HR PLUS, 주간 경제 리포트  HR PLUS 리포트 - 스탠다드   \n",
      "4             2                  써니             쪼꼬미 여행자   \n",
      "..          ...                 ...                 ...   \n",
      "239         174                  호지              모닝 리추얼   \n",
      "240         175                 로공백                말차라떼   \n",
      "241         176              데이문프레스         test 에세이 클럽   \n",
      "242         176              데이문프레스         test 프롬프트박스   \n",
      "243         177                스페이스   오픈컨택 - 을 준비하는 사람들   \n",
      "\n",
      "                                  membership_desc num_of_subs  \n",
      "0                         생방여의 지속적인 창작을 응원하는 앨라이들         114  \n",
      "1                                      전인의 인권을 응원           9  \n",
      "2    여러분의 응원은 게임 개발을 비롯한 여러 창작의 여정을 이어갈 힘이 되어요 :3           1  \n",
      "3                     HR PLUS 리포트 '스탠다드' 멤버십 입니다.          12  \n",
      "4     창작에 관한 이야기, 그리고 작은 선물로 선데이클럽 올인원팩을 드리고 있어요!           5  \n",
      "..                                            ...         ...  \n",
      "239                                   스트레칭 후 명상하기           0  \n",
      "240        매달 말차라떼 한 잔씩 후원해 주시면 글 쓸 때 큰 힘이 됩니다 :)           0  \n",
      "241                                    같이씁니다. 에세이           0  \n",
      "242                         조금은 어색한 그에게 안부를 남기세요.           0  \n",
      "243           외계문명과의 열린 대중적 공개적 만남을 준비하고 후원하는 멤버십           0  \n",
      "\n",
      "[244 rows x 5 columns]\n"
     ]
    }
   ],
   "source": [
    "df = df[['creator_id'] + [col for col in df.columns if col != 'creator_id']]\n",
    "\n",
    "# 결과 출력\n",
    "print(df)"
   ]
  },
  {
   "cell_type": "code",
   "execution_count": 101,
   "metadata": {},
   "outputs": [],
   "source": [
    "df.to_csv('membership.csv')"
   ]
  },
  {
   "cell_type": "code",
   "execution_count": 114,
   "metadata": {},
   "outputs": [
    {
     "name": "stdout",
     "output_type": "stream",
     "text": [
      "563\n"
     ]
    }
   ],
   "source": [
    "# https://steadio.co/creator/yeojaisgood#membership : 각각의 페이지 주소 가져오기 \n",
    "# strong class : font_label_bold_lg\n",
    "\n",
    "from selenium import webdriver\n",
    "from bs4 import BeautifulSoup\n",
    "\n",
    "# Chrome 브라우저 열기\n",
    "driver = webdriver.Chrome()\n",
    "\n",
    "# 웹 페이지로 이동\n",
    "url = \"https://steadio.co/creator/yeojaisgood#membership\"\n",
    "driver.get(url)\n",
    "\n",
    "# 페이지 로딩을 기다림 (필요한 경우)\n",
    "# driver.implicitly_wait(10)  # 예: 최대 10초까지 대기\n",
    "\n",
    "# 페이지의 HTML 가져오기\n",
    "html_content = driver.page_source\n",
    "\n",
    "# BeautifulSoup을 사용하여 HTML 파싱\n",
    "soup = BeautifulSoup(html_content, 'html.parser')\n",
    "\n",
    "# strong class가 'font_label_bold_lg strong'인 요소 찾기\n",
    "strong_element = soup.find('strong', class_='font_label_bold_lg')\n",
    "\n",
    "# 찾은 요소의 텍스트 출력\n",
    "if strong_element:\n",
    "    print(strong_element.text)\n",
    "else:\n",
    "    print(\"해당 요소를 찾을 수 없습니다.\")\n",
    "\n",
    "driver.quit()\n"
   ]
  },
  {
   "cell_type": "code",
   "execution_count": 116,
   "metadata": {},
   "outputs": [
    {
     "data": {
      "text/plain": [
       "Index(['creator_id', 'creator_name', 'membership_name', 'membership_desc',\n",
       "       'num_of_subs'],\n",
       "      dtype='object')"
      ]
     },
     "execution_count": 116,
     "metadata": {},
     "output_type": "execute_result"
    }
   ],
   "source": [
    "df.columns"
   ]
  }
 ],
 "metadata": {
  "kernelspec": {
   "display_name": "Python 3",
   "language": "python",
   "name": "python3"
  },
  "language_info": {
   "codemirror_mode": {
    "name": "ipython",
    "version": 3
   },
   "file_extension": ".py",
   "mimetype": "text/x-python",
   "name": "python",
   "nbconvert_exporter": "python",
   "pygments_lexer": "ipython3",
   "version": "3.11.5"
  }
 },
 "nbformat": 4,
 "nbformat_minor": 2
}
