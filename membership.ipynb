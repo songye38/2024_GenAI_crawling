{
 "cells": [
  {
   "cell_type": "code",
   "execution_count": 48,
   "metadata": {},
   "outputs": [
    {
     "name": "stdout",
     "output_type": "stream",
     "text": [
      "None\n"
     ]
    }
   ],
   "source": [
    "from selenium import webdriver\n",
    "from selenium.webdriver.chrome.service import Service as ChromeService\n",
    "from selenium.webdriver.common.by import By\n",
    "from selenium.webdriver.chrome.options import Options\n",
    "\n",
    "url = \"https://steadio.co/discover/memberships\"\n",
    "\n",
    "\n",
    "import selenium\n",
    "from selenium import webdriver\n",
    "from selenium.webdriver.common.keys import Keys\n",
    "from selenium.webdriver.support.ui import WebDriverWait\n",
    "from selenium.webdriver.support import expected_conditions as EC\n",
    "from selenium.webdriver.common.by import By\n",
    "\n",
    "driver = webdriver.Chrome()\n",
    "\n",
    "# 웹 페이지로 이동\n",
    "driver.get(url)\n",
    "\n",
    "\n",
    "# 페이지의 JavaScript가 완전히 로드될 때까지 대기\n",
    "wait = WebDriverWait(driver, 5)\n",
    "wait.until(EC.presence_of_element_located((By.ID, \"__next\")))\n",
    "\n",
    "\n",
    "# 동적으로 로드된 페이지의 HTML 가져오기\n",
    "html_content = driver.page_source\n",
    "\n",
    "# Selenium 브라우저 종료\n",
    "driver.quit()\n",
    "\n",
    "#print(html_content)\n",
    "# BeautifulSoup을 사용하여 HTML 파싱\n",
    "soup = BeautifulSoup(html_content, 'html.parser')\n",
    "\n",
    "print(soup.type)\n",
    "\n",
    "# 동일한 방법으로 원하는 데이터 가져오기\n",
    "# ul 태그 중 class가 'grid md:grid-cols-2'인 것을 찾기\n",
    "# ul_elements = soup.find_all('ul')\n",
    "\n",
    "# # 찾은 데이터 출력 또는 원하는 처리 수행\n",
    "# for ul_element in ul_elements:\n",
    "#     print(ul_element)"
   ]
  }
 ],
 "metadata": {
  "kernelspec": {
   "display_name": "Python 3",
   "language": "python",
   "name": "python3"
  },
  "language_info": {
   "codemirror_mode": {
    "name": "ipython",
    "version": 3
   },
   "file_extension": ".py",
   "mimetype": "text/x-python",
   "name": "python",
   "nbconvert_exporter": "python",
   "pygments_lexer": "ipython3",
   "version": "3.11.5"
  }
 },
 "nbformat": 4,
 "nbformat_minor": 2
}
